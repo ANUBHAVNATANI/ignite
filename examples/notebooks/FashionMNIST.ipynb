{
 "cells": [
  {
   "cell_type": "markdown",
   "metadata": {},
   "source": [
    "# Convolutional Neural Networks for Classifying Fashion-MNIST Dataset using Ignite\n",
    "This is a tutorial on using Ignite to train neural network models, setup experiments and validate models.\n",
    "\n",
    "In this notebook, we will be doing classification of images using Convolutional Neural Networks \n",
    "\n",
    "We will be using the [Fashion-MNIST dataset](https://github.com/zalandoresearch/fashion-mnist) Fashion-MNIST is a set of 28x28 greyscale images of clothes.\n",
    "\n",
    "![Fashion MNIST dataset](https://storage.googleapis.com/kaggle-datasets-images/2243/3791/9384af51de8baa77f6320901f53bd26b/dataset-cover.png)\n",
    "\n",
    "Lets get started!"
   ]
  },
  {
   "cell_type": "markdown",
   "metadata": {},
   "source": [
    "### Importing libraries"
   ]
  },
  {
   "cell_type": "markdown",
   "metadata": {},
   "source": [
    "General Data-Science Libraries like numpy and matplolib "
   ]
  },
  {
   "cell_type": "code",
   "execution_count": 1,
   "metadata": {},
   "outputs": [],
   "source": [
    "import matplotlib.pyplot as plt\n",
    "import numpy as np"
   ]
  },
  {
   "cell_type": "markdown",
   "metadata": {},
   "source": [
    "We import torch, nn and functional modules to create our models.\n",
    "\n",
    "We also import datasets and transforms from torchvision for loading the dataset and applying transforms to the images in the dataset.\n",
    "\n",
    "We import dataloader for making train and validation loader for loading data into our model."
   ]
  },
  {
   "cell_type": "code",
   "execution_count": 2,
   "metadata": {},
   "outputs": [],
   "source": [
    "import torch\n",
    "from torch import nn,optim\n",
    "import torch.nn.functional as F\n",
    "from torch.utils.data import DataLoader\n",
    "from torchvision import datasets,transforms"
   ]
  },
  {
   "cell_type": "markdown",
   "metadata": {},
   "source": [
    "`Ignite` is a High-level library to help with training neural networks in PyTorch. It comes with an `Engine` to setup a training loop, various metrics, handlers and a helpful contrib section! \n",
    "\n",
    "Below we import the following:\n",
    "* **Engine**: Runs a given process_function over each batch of a dataset, emitting events as it goes.\n",
    "* **Events**: Allows users to attach functions to an `Engine` to fire functions at a specific event. Eg: `EPOCH_COMPLETED`, `ITERATION_STARTED`, etc.\n",
    "* **Accuracy**: Metric to calculate accuracy over a dataset, for binary, multiclass, multilabel cases. \n",
    "* **Loss**: General metric that takes a loss function as a parameter, calculate loss over a dataset.\n",
    "* **RunningAverage**: General metric to attach to Engine during training. \n",
    "* **ModelCheckpoint**: Handler to checkpoint models. \n",
    "* **EarlyStopping**: Handler to stop training based on a score function. "
   ]
  },
  {
   "cell_type": "code",
   "execution_count": 3,
   "metadata": {},
   "outputs": [],
   "source": [
    "from ignite.engine import Events, create_supervised_trainer, create_supervised_evaluator\n",
    "from ignite.metrics import Accuracy,Loss,RunningAverage\n",
    "from ignite.handlers import ModelCheckpoint,EarlyStopping"
   ]
  },
  {
   "cell_type": "markdown",
   "metadata": {},
   "source": [
    "The code below first sets up transform using `torhvision transfroms` for converting images to pytorch tensors and normalizing the images.\n",
    "\n",
    "Next, We use `torchvision datasets` for dowloading the fashion mnist dataset and applying transforms which we defined above.\n",
    "\n",
    "* `trainset` contains the training data.\n",
    "* `validationset` contains the validation data\n",
    "\n",
    "Next, We use `pytorch dataloader` for making dataloader from the training and validation sets."
   ]
  },
  {
   "cell_type": "code",
   "execution_count": 4,
   "metadata": {},
   "outputs": [],
   "source": [
    "#transform to normalize the data\n",
    "transform = transforms.Compose([transforms.ToTensor(),\n",
    "                                transforms.Normalize((0.5,), (0.5,))])\n",
    "\n",
    "# Download and load the training data\n",
    "trainset = datasets.FashionMNIST('./data', download=True, train=True, transform=transform)\n",
    "train_loader = DataLoader(trainset, batch_size=64, shuffle=True)\n",
    "\n",
    "# Download and load the test data\n",
    "validationset = datasets.FashionMNIST('./data', download=True, train=False, transform=transform)\n",
    "val_loader = DataLoader(validationset, batch_size=64, shuffle=True)"
   ]
  },
  {
   "cell_type": "markdown",
   "metadata": {},
   "source": [
    "### CNN Model"
   ]
  },
  {
   "cell_type": "markdown",
   "metadata": {},
   "source": [
    "Explanation of Model Architecture\n",
    "\n",
    "* [Convolutional layers](https://pytorch.org/docs/stable/nn.html#conv2d), the Convolutional layer is used to create a convolution kernel that is convolved with the layer input to produce a tensor of outputs.\n",
    "* [Maxpooling layers](https://pytorch.org/docs/stable/nn.html#maxpool2d), the Maxpooling layer is used to downsample an input representation keeping the most active pixels from the previous layer.\n",
    "* The usual [Linear](https://pytorch.org/docs/stable/nn.html#linear) + [Dropout](https://pytorch.org/docs/stable/nn.html#dropout2d) layers to avoid overfitting and produce a 10-dim output.\n",
    "* The output of Convolutional layer is determined by W'(new dimension) = (W-F+2P)/S + 1 here W is dimension 28(28 x 28) and F is the number of filters and P is the amount of padding and S is the amount of stride.\n",
    "* After second convolutional layer and max pooling we get the output as 32x4x4\n",
    "* We convert this 32x4x4 output to the flat tensor by using pytorch tensor `view` method\n",
    "* Then we pass this flat tensor to the fully connected layers\n",
    "* We had used Relu Non Linearity for the model and logsoftmax at the last layer because we are going to use the NLLL loss.\n"
   ]
  },
  {
   "cell_type": "code",
   "execution_count": 5,
   "metadata": {},
   "outputs": [],
   "source": [
    "class CNN(nn.Module):\n",
    "    def __init__(self):\n",
    "        super(CNN,self).__init__()\n",
    "        self.conv1 = nn.Conv2d(1,16,kernel_size=5)\n",
    "        self.conv2 = nn.Conv2d(16,32,kernel_size=5)\n",
    "        self.drop = nn.Dropout2d()\n",
    "        self.fc1 = nn.Linear(32*4*4,128)\n",
    "        self.fc2 = nn.Linear(128,10)\n",
    "    \n",
    "    def forward(self,x):\n",
    "        x = F.relu(F.max_pool2d(self.conv1(x),2))\n",
    "        x = F.relu(F.max_pool2d(self.drop(self.conv2(x)),2))\n",
    "        x = x.view(-1,32*4*4)\n",
    "        x = F.relu(self.fc1(x))\n",
    "        x = F.dropout(x,training=self.training)\n",
    "        x = self.fc2(x)\n",
    "        x = F.log_softmax(x,dim=1)\n",
    "        return x"
   ]
  },
  {
   "cell_type": "markdown",
   "metadata": {},
   "source": [
    "### Creating Model, Optimizer and Loss"
   ]
  },
  {
   "cell_type": "markdown",
   "metadata": {},
   "source": [
    "Below we create an instance of the CNN model. The model is placed on a device and then a loss function of negative log likelihood loss and Adam optimizer with learning rate of 0.003 are setup. "
   ]
  },
  {
   "cell_type": "code",
   "execution_count": 6,
   "metadata": {},
   "outputs": [],
   "source": [
    "#creating model optimizer and loss\n",
    "model = CNN()\n",
    "device = torch.device(\"cuda:0\" if torch.cuda.is_available() else \"cpu\")\n",
    "model.to(device)\n",
    "optimizer = optim.Adam(model.parameters(), lr=0.003)\n",
    "criterion = nn.NLLLoss()"
   ]
  },
  {
   "cell_type": "markdown",
   "metadata": {},
   "source": [
    "### Training and Evaluating using Ignite"
   ]
  },
  {
   "cell_type": "markdown",
   "metadata": {},
   "source": [
    "### Instantiating Training and Evaluating Engines\n",
    "\n",
    "Below we create 2 engines, a trainer, and a evaluator. By using the `create_supervised_trainer` and `create_supervised_evaluator` by passing the required arguments.\n",
    "\n",
    "* `training history`: it stores the training loss and accuracy\n",
    "* `validation history`:it stores the validation loss and accuracy\n",
    "* `last_epoch`: it stores the last epoch untill the model is trained\n"
   ]
  },
  {
   "cell_type": "code",
   "execution_count": 7,
   "metadata": {},
   "outputs": [],
   "source": [
    "#defining the number of epochs\n",
    "epochs = 20\n",
    "#creating trainer,evaluator\n",
    "trainer = create_supervised_trainer(model,optimizer,criterion,device=device)\n",
    "evaluator = create_supervised_evaluator(model,metrics={'accuracy':Accuracy(),'nll':Loss(criterion)},device=device)\n",
    "training_history = {'accuracy':[],'loss':[]}\n",
    "validation_history = {'accuracy':[],'loss':[]}\n",
    "last_epoch = []"
   ]
  },
  {
   "cell_type": "markdown",
   "metadata": {},
   "source": [
    "### Metrics - RunningAverage, Accuracy and Loss\n",
    "\n",
    "To start, we will attach a metric of Running Average to track a running average of the scalar loss output for each batch. "
   ]
  },
  {
   "cell_type": "code",
   "execution_count": 8,
   "metadata": {},
   "outputs": [],
   "source": [
    "RunningAverage(output_transform=lambda x: x).attach(trainer, 'loss')"
   ]
  },
  {
   "cell_type": "markdown",
   "metadata": {},
   "source": [
    "### EarlyStopping - Tracking Validation Loss\n",
    "\n",
    "Now we will setup a Early Stopping handler for this training process. EarlyStopping requires a score_function that allows the user to define whatever criteria to stop trainig. In this case, if the loss of the validation set does not decrease in 5 epochs, the training process will stop early.  "
   ]
  },
  {
   "cell_type": "code",
   "execution_count": 9,
   "metadata": {},
   "outputs": [],
   "source": [
    "def score_function(engine):\n",
    "    val_loss = engine.state.metrics['nll']\n",
    "    return -val_loss\n",
    "\n",
    "handler = EarlyStopping(patience=5, score_function=score_function, trainer=trainer)\n",
    "evaluator.add_event_handler(Events.COMPLETED, handler)"
   ]
  },
  {
   "cell_type": "markdown",
   "metadata": {},
   "source": [
    "### Attaching Custom Functions to Engine at specific Events\n",
    "\n",
    "Below you will see ways to define your own custom functions and attaching them to various `Events` of the training process.\n",
    "\n",
    "The functions below both achieve similar tasks, they print the results of the evaluator run on a dataset. One function does that on the training evaluator and dataset, while the other on the validation. Another difference is how these functions are attached in the trainer engine.\n",
    "\n",
    "The first method involves using a decorator, the syntax is simple - `@` `trainer.on(Events.EPOCH_COMPLETED)`, means that the decorated function will be attached to the trainer and called at the end of each epoch. \n",
    "\n",
    "The second method involves using the add_event_handler method of trainer - `trainer.add_event_handler(Events.EPOCH_COMPLETED, custom_function)`. This achieves the same result as the above. "
   ]
  },
  {
   "cell_type": "code",
   "execution_count": 10,
   "metadata": {},
   "outputs": [],
   "source": [
    "@trainer.on(Events.EPOCH_COMPLETED)\n",
    "def log_training_results(trainer):\n",
    "    evaluator.run(train_loader)\n",
    "    metrics = evaluator.state.metrics\n",
    "    accuracy = metrics['accuracy']*100\n",
    "    loss = metrics['nll']\n",
    "    last_epoch.append(0)\n",
    "    training_history['accuracy'].append(accuracy)\n",
    "    training_history['loss'].append(loss)\n",
    "    print(\"Training Results - Epoch: {}  Avg accuracy: {:.2f} Avg loss: {:.2f}\"\n",
    "          .format(trainer.state.epoch, accuracy, loss))\n",
    "\n",
    "def log_validation_results(trainer):\n",
    "    evaluator.run(val_loader)\n",
    "    metrics = evaluator.state.metrics\n",
    "    accuracy = metrics['accuracy']*100\n",
    "    loss = metrics['nll']\n",
    "    validation_history['accuracy'].append(accuracy)\n",
    "    validation_history['loss'].append(loss)\n",
    "    print(\"Validation Results - Epoch: {}  Avg accuracy: {:.2f} Avg loss: {:.2f}\"\n",
    "          .format(trainer.state.epoch, accuracy, loss))\n",
    "    \n",
    "trainer.add_event_handler(Events.EPOCH_COMPLETED, log_validation_results)    "
   ]
  },
  {
   "cell_type": "markdown",
   "metadata": {},
   "source": [
    "### ModelCheckpoint\n",
    "\n",
    "Lastly, we want to checkpoint this model. It's important to do so, as training processes can be time consuming and if for some reason something goes wrong during training, a model checkpoint can be helpful to restart training from the point of failure.\n",
    "\n",
    "Below we will use Ignite's `ModelCheckpoint` handler to checkpoint models at the end of each epoch."
   ]
  },
  {
   "cell_type": "code",
   "execution_count": 11,
   "metadata": {},
   "outputs": [],
   "source": [
    "checkpointer = ModelCheckpoint('./models', 'fashionMNIST', save_interval=1, n_saved=2, create_dir=True, save_as_state_dict=True,require_empty=False)\n",
    "trainer.add_event_handler(Events.EPOCH_COMPLETED, checkpointer, {'fashionMNIST': model})"
   ]
  },
  {
   "cell_type": "markdown",
   "metadata": {},
   "source": [
    "### Run Engine\n",
    "\n",
    "Next, we will run the trainer for 20 epochs and monitor results. Below we can see that custom functions defined above helps prints the loss and accuracy per epoch.  "
   ]
  },
  {
   "cell_type": "code",
   "execution_count": 12,
   "metadata": {},
   "outputs": [
    {
     "name": "stdout",
     "output_type": "stream",
     "text": [
      "Training Results - Epoch: 1  Avg accuracy: 85.70 Avg loss: 0.40\n",
      "Validation Results - Epoch: 1  Avg accuracy: 84.89 Avg loss: 0.42\n",
      "Training Results - Epoch: 2  Avg accuracy: 87.82 Avg loss: 0.34\n",
      "Validation Results - Epoch: 2  Avg accuracy: 86.93 Avg loss: 0.37\n",
      "Training Results - Epoch: 3  Avg accuracy: 88.18 Avg loss: 0.31\n",
      "Validation Results - Epoch: 3  Avg accuracy: 87.53 Avg loss: 0.34\n",
      "Training Results - Epoch: 4  Avg accuracy: 88.52 Avg loss: 0.31\n",
      "Validation Results - Epoch: 4  Avg accuracy: 87.28 Avg loss: 0.34\n",
      "Training Results - Epoch: 5  Avg accuracy: 88.91 Avg loss: 0.29\n",
      "Validation Results - Epoch: 5  Avg accuracy: 87.48 Avg loss: 0.34\n",
      "Training Results - Epoch: 6  Avg accuracy: 88.78 Avg loss: 0.30\n",
      "Validation Results - Epoch: 6  Avg accuracy: 87.29 Avg loss: 0.34\n",
      "Training Results - Epoch: 7  Avg accuracy: 89.56 Avg loss: 0.29\n",
      "Validation Results - Epoch: 7  Avg accuracy: 88.09 Avg loss: 0.33\n",
      "Training Results - Epoch: 8  Avg accuracy: 89.11 Avg loss: 0.29\n",
      "Validation Results - Epoch: 8  Avg accuracy: 87.51 Avg loss: 0.33\n",
      "Training Results - Epoch: 9  Avg accuracy: 89.85 Avg loss: 0.27\n",
      "Validation Results - Epoch: 9  Avg accuracy: 88.11 Avg loss: 0.32\n",
      "Training Results - Epoch: 10  Avg accuracy: 89.93 Avg loss: 0.27\n",
      "Validation Results - Epoch: 10  Avg accuracy: 87.93 Avg loss: 0.31\n",
      "Training Results - Epoch: 11  Avg accuracy: 89.95 Avg loss: 0.27\n",
      "Validation Results - Epoch: 11  Avg accuracy: 88.27 Avg loss: 0.31\n",
      "Training Results - Epoch: 12  Avg accuracy: 89.49 Avg loss: 0.27\n",
      "Validation Results - Epoch: 12  Avg accuracy: 87.80 Avg loss: 0.32\n",
      "Training Results - Epoch: 13  Avg accuracy: 89.75 Avg loss: 0.27\n",
      "Validation Results - Epoch: 13  Avg accuracy: 87.93 Avg loss: 0.32\n",
      "Training Results - Epoch: 14  Avg accuracy: 90.28 Avg loss: 0.26\n",
      "Validation Results - Epoch: 14  Avg accuracy: 88.29 Avg loss: 0.31\n",
      "Training Results - Epoch: 15  Avg accuracy: 89.87 Avg loss: 0.27\n",
      "Validation Results - Epoch: 15  Avg accuracy: 88.05 Avg loss: 0.33\n",
      "Training Results - Epoch: 16  Avg accuracy: 90.37 Avg loss: 0.25\n",
      "Validation Results - Epoch: 16  Avg accuracy: 88.46 Avg loss: 0.31\n",
      "Training Results - Epoch: 17  Avg accuracy: 90.02 Avg loss: 0.28\n",
      "Validation Results - Epoch: 17  Avg accuracy: 87.81 Avg loss: 0.33\n",
      "Training Results - Epoch: 18  Avg accuracy: 89.22 Avg loss: 0.29\n",
      "Validation Results - Epoch: 18  Avg accuracy: 86.80 Avg loss: 0.34\n"
     ]
    },
    {
     "data": {
      "text/plain": [
       "<ignite.engine.engine.State at 0x2a9dc6e4160>"
      ]
     },
     "execution_count": 12,
     "metadata": {},
     "output_type": "execute_result"
    }
   ],
   "source": [
    "trainer.run(train_loader, max_epochs=epochs)"
   ]
  },
  {
   "cell_type": "markdown",
   "metadata": {},
   "source": [
    "### Plotting the loss and accuracy\n",
    "Next, we will plot the loss and accuracy which we have stored in the training_history and validation_history dictionary to see how loss and accuracy are changing with each epoch."
   ]
  },
  {
   "cell_type": "code",
   "execution_count": 13,
   "metadata": {},
   "outputs": [
    {
     "data": {
      "image/png": "[encoded data removed]",
      "text/plain": [
       "<Figure size 432x288 with 1 Axes>"
      ]
     },
     "metadata": {
      "needs_background": "light"
     },
     "output_type": "display_data"
    }
   ],
   "source": [
    "plt.plot(training_history['accuracy'],label=\"Training Accuracy\")\n",
    "plt.plot(validation_history['accuracy'],label=\"Validation Accuracy\")\n",
    "plt.xlabel('No. of Epochs')\n",
    "plt.ylabel('Accuracy')\n",
    "plt.legend(frameon=False)\n",
    "plt.show()"
   ]
  },
  {
   "cell_type": "code",
   "execution_count": 14,
   "metadata": {},
   "outputs": [
    {
     "data": {
      "image/png": "[encoded data removed]",
      "text/plain": [
       "<Figure size 432x288 with 1 Axes>"
      ]
     },
     "metadata": {
      "needs_background": "light"
     },
     "output_type": "display_data"
    }
   ],
   "source": [
    "plt.plot(training_history['loss'],label=\"Training Loss\")\n",
    "plt.plot(validation_history['loss'],label=\"Validation Loss\")\n",
    "plt.xlabel('No. of Epochs')\n",
    "plt.ylabel('Loss')\n",
    "plt.legend(frameon=False)\n",
    "plt.show()"
   ]
  },
  {
   "cell_type": "markdown",
   "metadata": {},
   "source": [
    "### Loading the saved model from the disk\n",
    "Loading the saved pytorch model from the disk for inferencing."
   ]
  },
  {
   "cell_type": "code",
   "execution_count": 15,
   "metadata": {},
   "outputs": [],
   "source": [
    "#loading the saved model\n",
    "model.load_state_dict(torch.load('models/fashionMNIST_fashionMNIST_'+str(len(last_epoch))+'.pth'))"
   ]
  },
  {
   "cell_type": "markdown",
   "metadata": {},
   "source": [
    "### Infrencing the model \n",
    "Below code will be used for inferencing from the model and visualizing the results.\n",
    "\n",
    "Here we do iteration from the val_loader and then select the class with highest probability and then compare it with actul class."
   ]
  },
  {
   "cell_type": "code",
   "execution_count": 16,
   "metadata": {},
   "outputs": [
    {
     "data": {
      "image/png": "[encoded data removed]",
      "text/plain": [
       "<Figure size 1800x288 with 10 Axes>"
      ]
     },
     "metadata": {},
     "output_type": "display_data"
    }
   ],
   "source": [
    "#classes of fashion mnist dataset\n",
    "classes = ['T-shirt/top','Trouser','Pullover','Dress','Coat','Sandal','Shirt','Sneaker','Bag','Ankle Boot']\n",
    "#creating a dataiter for iterating the dataset\n",
    "dataiter = iter(val_loader)\n",
    "images, labels = dataiter.next()\n",
    "images_arr = []\n",
    "labels_arr = []\n",
    "pred_arr = []\n",
    "#moving model to cpu for infrencing \n",
    "model.to(\"cpu\")\n",
    "#iterating on the dataset to predict the output\n",
    "for i in range(0,10):\n",
    "    images_arr.append(images[i].unsqueeze(0))\n",
    "    labels_arr.append(labels[i].item())\n",
    "    ps = torch.exp(model(images_arr[i]))\n",
    "    ps = ps.data.numpy().squeeze()\n",
    "    pred_arr.append(np.argmax(ps))\n",
    "#plotting the results\n",
    "fig = plt.figure(figsize=(25,4))\n",
    "for i in range(10):\n",
    "    ax = fig.add_subplot(2, 20/2, i+1, xticks=[], yticks=[])\n",
    "    ax.imshow(images_arr[i].resize_(1, 28, 28).numpy().squeeze())\n",
    "    ax.set_title(\"{} ({})\".format(classes[pred_arr[i]], classes[labels_arr[i]]),\n",
    "                 color=(\"green\" if pred_arr[i]==labels_arr[i] else \"red\"))"
   ]
  },
  {
   "cell_type": "markdown",
   "metadata": {},
   "source": [
    "### Refrences \n",
    "* [Pytorch Ignite Text CNN example notebook](https://github.com/pytorch/ignite/blob/master/examples/notebooks/TextCNN.ipynb)\n",
    "* [Pytorch Ignite MNIST example](https://github.com/pytorch/ignite/blob/master/examples/mnist/mnist.py)"
   ]
  }
 ],
 "metadata": {
  "kernelspec": {
   "display_name": "Python 3",
   "language": "python",
   "name": "python3"
  },
  "language_info": {
   "codemirror_mode": {
    "name": "ipython",
    "version": 3
   },
   "file_extension": ".py",
   "mimetype": "text/x-python",
   "name": "python",
   "nbconvert_exporter": "python",
   "pygments_lexer": "ipython3",
   "version": "3.6.8"
  }
 },
 "nbformat": 4,
 "nbformat_minor": 2
}
